{
 "cells": [
  {
   "cell_type": "markdown",
   "metadata": {
    "collapsed": true
   },
   "source": [
    "# The Reinforcement Learning Problem"
   ]
  },
  {
   "cell_type": "markdown",
   "metadata": {},
   "source": [
    "* 싸이그래머 / DGM : 파트 1 - 강화학습 기초 [1]\n",
    "* 김무성"
   ]
  },
  {
   "cell_type": "markdown",
   "metadata": {},
   "source": [
    "#### 참고\n",
    "* [1] Reinforcement Learning: An Introduction (second edition) - http://incompleteideas.net/sutton/book/the-book.html\n",
    "* [2] (slides) CMPUT 609: Reinforcement Learning for Artificial Intelligence - http://incompleteideas.net/rlai.cs.ualberta.ca/RLAI/RLAIcourse/2010.html"
   ]
  },
  {
   "cell_type": "markdown",
   "metadata": {},
   "source": [
    "# Contents\n",
    "* 1.1 Reinforcement Learning\n",
    "* 1.2 Examples \n",
    "* 1.3 Elements of Reinforcement Learning\n",
    "* 1.4 Limitations and Scope\n",
    "* 1.5 An Extended Example: Tic-Tac-Toe\n",
    "* 1.6 Summary"
   ]
  },
  {
   "cell_type": "markdown",
   "metadata": {},
   "source": [
    "#### 참고\n",
    "* [4] (slide) Deep Reinforcement Learning / Lecture 1. Introduction - http://rll.berkeley.edu/deeprlcourse/docs/2015.08.26.Lecture01Intro.pdf\n",
    "* [5] CS 294: Deep Reinforcement Learning, Fall 2015 - http://rll.berkeley.edu/deeprlcourse/"
   ]
  },
  {
   "cell_type": "markdown",
   "metadata": {},
   "source": [
    "#### nature of learning"
   ]
  },
  {
   "cell_type": "markdown",
   "metadata": {},
   "source": [
    "The idea that we learn by interacting with our environment is probably the first to occur to us when we think about the nature of learning."
   ]
  },
  {
   "cell_type": "markdown",
   "metadata": {},
   "source": [
    "#### interaction"
   ]
  },
  {
   "cell_type": "markdown",
   "metadata": {},
   "source": [
    "Learning from interaction is a foundational idea underlying nearly all theories of learning and intelligence."
   ]
  },
  {
   "cell_type": "markdown",
   "metadata": {},
   "source": [
    "#### computational approach"
   ]
  },
  {
   "cell_type": "markdown",
   "metadata": {},
   "source": [
    "* In this book we explore a computational approach to learning from interaction.\n",
    "* Rather than directly theorizing about <font color=\"blue\">how people or animals learn</font>, we explore <font color=\"red\">idealized learning situations</font> and evaluate the effectiveness of various learning methods.\n",
    "* we adopt the perspective of an artificial intelligence researcher or engineer."
   ]
  },
  {
   "cell_type": "markdown",
   "metadata": {},
   "source": [
    "#### evaluation"
   ]
  },
  {
   "cell_type": "markdown",
   "metadata": {},
   "source": [
    "We explore designs for machines that are effective in solving learning problems of scientific or economic interest, evaluating the designs through mathematical analysis"
   ]
  },
  {
   "cell_type": "markdown",
   "metadata": {},
   "source": [
    "#### goal-directed"
   ]
  },
  {
   "cell_type": "markdown",
   "metadata": {},
   "source": [
    "The approach we explore, called reinforcement learning, is much more focused on <font color=\"red\">goal-directed learning from interaction</font> than are other approaches to machine learning."
   ]
  },
  {
   "cell_type": "markdown",
   "metadata": {},
   "source": [
    "# 1.1 Reinforcement Learning"
   ]
  },
  {
   "cell_type": "markdown",
   "metadata": {},
   "source": [
    "<img src=\"http://sanghyukchun.github.io/images/post/90-6.png\" width=600 />"
   ]
  },
  {
   "cell_type": "markdown",
   "metadata": {},
   "source": [
    "#### Three characteristics\n",
    "* being <font color=\"blue\">closed-loop</font> in an essential way, \n",
    "* <font color=\"blue\">not having direct instructions</font> as to what actions to take, and \n",
    "* where the <font color=\"blue\">consequences of actions</font>, \n",
    "    - including reward signals, \n",
    "    - play out over extended time periods"
   ]
  },
  {
   "cell_type": "markdown",
   "metadata": {},
   "source": [
    "Reinforcement learning problems involve learning what to do — <font color=\"red\">how to map situations to actions</font> — so as to <font color=\"red\">maximize</font> a numerical <font color=\"red\">reward</font> signal. \n",
    "* In an essential way these are <font color=\"red\">closed-loop problems</font> because the learning system’s <font color=\"red\">actions influence its later inputs</font>. \n",
    "* Moreover, the learner is not told which actions to take, as in many forms of machine learning, but instead must discover which <font color=\"red\">actions yield the most reward</font> by trying them out. \n",
    "* In the most interesting and challenging cases, <font color=\"red\">actions may affect not only the immediate reward but also the next situation</font> and, through that, <font color=\"red\">all subsequent rewards</font>."
   ]
  },
  {
   "cell_type": "markdown",
   "metadata": {},
   "source": [
    "#### Markov decision processes (MDPs)"
   ]
  },
  {
   "cell_type": "markdown",
   "metadata": {},
   "source": [
    "<img src=\"https://upload.wikimedia.org/wikipedia/commons/2/21/Markov_Decision_Process_example.png\" width=600 />"
   ]
  },
  {
   "cell_type": "markdown",
   "metadata": {},
   "source": [
    "* A full specification of the reinforcement learning problem in terms of the <font color=\"red\">optimal control of Markov decision processes (MDPs)</font> must wait until Chapter 3, but the basic idea is simply to <font color=\"blue\">capture the most important aspects</font> of the real problem facing a <font color=\"blue\">learning agent interacting with its environment to achieve a goal</font>.\n",
    "* <font color=\"red\">The MDP formulation</font> is intended to include just <font color=\"red\">these three aspects</font> —\n",
    "    - sensation, \n",
    "    - action, and \n",
    "    - goal"
   ]
  },
  {
   "cell_type": "markdown",
   "metadata": {},
   "source": [
    "#### supervised learning"
   ]
  },
  {
   "cell_type": "markdown",
   "metadata": {},
   "source": [
    "* Reinforcement learning is different from supervised learning, the kind of learning studied in most current research in the field of machine learning.\n",
    "* This is an important kind of learning, but alone it is <font color=\"red\">not adequate for learning from interaction</font>. In interactive problems it is <font color=\"red\">often impractical to obtain</font> examples of desired behavior that are both <font color=\"red\">correct and representative of all the situations</font> in which the agent has to act."
   ]
  },
  {
   "cell_type": "markdown",
   "metadata": {},
   "source": [
    "<img src=\"figures/others.png\" width=600 />"
   ]
  },
  {
   "cell_type": "markdown",
   "metadata": {},
   "source": [
    "<img src=\"http://www.yger.net/wp-content/uploads/2013/02/learning.jpg\" width=300 />"
   ]
  },
  {
   "cell_type": "markdown",
   "metadata": {},
   "source": [
    "<img src=\"http://image.slidesharecdn.com/bsn-tutorial-all-slides-140617043257-phpapp01/95/machine-learning-for-body-sensor-networks-20-638.jpg?cb=1402979762\" width=600 />"
   ]
  },
  {
   "cell_type": "markdown",
   "metadata": {},
   "source": [
    "#### unsupervised learning"
   ]
  },
  {
   "cell_type": "markdown",
   "metadata": {},
   "source": [
    "* Reinforcement learning is also different from what machine learning researchers call unsupervised learning, which is typically about finding structure hidden in collections of unlabeled data. \n",
    "* The terms supervised learning and unsupervised learning appear to exhaustively classify machine learning paradigms, but they do not.\n",
    "* Although one might be tempted to think of reinforcement learning as a kind of unsupervised learning because it does not rely on examples of correct behavior, reinforcement learning is trying to maximize a reward signal instead of trying to find hidden structure.\n",
    "* Un- covering structure in an agent’s experience can certainly be useful in reinforcement learning, but by itself does <font color=\"red\">not address the reinforcement learning agent’s problem of maximizing a reward signal</font>."
   ]
  },
  {
   "cell_type": "markdown",
   "metadata": {},
   "source": [
    "#### third machine learning paradigm"
   ]
  },
  {
   "cell_type": "markdown",
   "metadata": {},
   "source": [
    "We therefore consider reinforcement learning to be a third machine learning paradigm, alongside supervised learning and unsupervised"
   ]
  },
  {
   "cell_type": "markdown",
   "metadata": {},
   "source": [
    "#### goal-directed agent interacting with an uncertain environment.\n",
    "\n",
    "Another key feature of reinforcement learning is that it explicitly considers the whole problem of a goal-directed agent interacting with an uncertain environment. This is in contrast with many approaches that consider subproblems without address- ing how they might fit into a larger picture."
   ]
  },
  {
   "cell_type": "markdown",
   "metadata": {},
   "source": [
    "#### planning vs. real-time action selection\n",
    "\n",
    "When reinforcement learning involves planning, it has to address the interplay between planning and real-time action selection, as well as the question of how environment models are acquired and improved."
   ]
  },
  {
   "cell_type": "markdown",
   "metadata": {},
   "source": [
    "#### exploration–exploitation dilemma"
   ]
  },
  {
   "cell_type": "markdown",
   "metadata": {},
   "source": [
    "* One of the challenges that arise in reinforcement learning, and not in other kinds of learning, is the trade-off between exploration and exploitation.\n",
    "* The agent has to \n",
    "    - <font color=\"red\">exploit</font> what it \n",
    "        - already knows in order to obtain reward, but it also has to \n",
    "    - <font color=\"red\">explore</font> in order to make \n",
    "        - better action selections in the future."
   ]
  },
  {
   "cell_type": "markdown",
   "metadata": {},
   "source": [
    "<img src=\"https://cdn-images-1.medium.com/max/800/0*HNc3MBEYo3vWYmSV.jpg\" width=600 />"
   ]
  },
  {
   "cell_type": "markdown",
   "metadata": {},
   "source": [
    "#### psychology and neuroscience"
   ]
  },
  {
   "cell_type": "markdown",
   "metadata": {},
   "source": [
    "One of the most exciting aspects of modern reinforcement learning is its sub- stantive and fruitful interactions with other engineering and scientific disciplines. \n",
    "* Reinforcement learning is part of a decades-long trend within artificial intelligence and machine learning toward greater integration with statistics, optimization, and other mathematical subjects. \n",
    "* More distinctively, reinforcement learning has also interacted strongly with psychology and neuroscience, with substantial benefits going both ways. \n",
    "* The body of this book develops the ideas of reinforcement learning that pertain to engineering and artificial intelligence, with connections to psychology and neuroscience summarized in Chapters 14 and 15."
   ]
  },
  {
   "cell_type": "markdown",
   "metadata": {},
   "source": [
    "# 1.2 Examples"
   ]
  },
  {
   "cell_type": "markdown",
   "metadata": {},
   "source": [
    "These examples share features that are so basic that they are easy to overlook. All involve interaction between an active decision-making agent and its environment, within which the agent seeks to achieve a goal despite uncertainty about its environment."
   ]
  },
  {
   "cell_type": "markdown",
   "metadata": {},
   "source": [
    "# 1.3 Elements of Reinforcement Learning"
   ]
  },
  {
   "cell_type": "markdown",
   "metadata": {},
   "source": [
    "#### 참고\n",
    "* [6] (slide) UCL Course on RL / Lecture 1: Introduction to Reinforcement Learning - http://www0.cs.ucl.ac.uk/staff/d.silver/web/Teaching_files/intro_RL.pdf\n",
    "* [7] UCL Course on RL - http://www0.cs.ucl.ac.uk/staff/d.silver/web/Teaching.html"
   ]
  },
  {
   "cell_type": "markdown",
   "metadata": {},
   "source": [
    "<img src=\"http://sanghyukchun.github.io/images/post/90-6.png\" width=600 />"
   ]
  },
  {
   "cell_type": "markdown",
   "metadata": {},
   "source": [
    "<img src=\"http://images.slideplayer.com/16/4958328/slides/slide_4.jpg\" width=600 />"
   ]
  },
  {
   "cell_type": "markdown",
   "metadata": {},
   "source": [
    "<img src=\"http://images.slideplayer.com/15/4789577/slides/slide_8.jpg\" width=600 />"
   ]
  },
  {
   "cell_type": "markdown",
   "metadata": {},
   "source": [
    "Beyond the agent and the environment, one can identify four main subelements of a reinforcement learning system: a policy, a reward signal, a value function, and, optionally, a model of the environment."
   ]
  },
  {
   "cell_type": "markdown",
   "metadata": {},
   "source": [
    "#### policy"
   ]
  },
  {
   "cell_type": "markdown",
   "metadata": {},
   "source": [
    "A policy defines the learning agent’s way of behaving at a given time."
   ]
  },
  {
   "cell_type": "markdown",
   "metadata": {},
   "source": [
    "#### reward signal"
   ]
  },
  {
   "cell_type": "markdown",
   "metadata": {},
   "source": [
    "A reward signal defines the goal in a reinforcement learning problem. On each time step, the environment sends to the reinforcement learning agent a single number, a reward."
   ]
  },
  {
   "cell_type": "markdown",
   "metadata": {},
   "source": [
    "#### value function"
   ]
  },
  {
   "cell_type": "markdown",
   "metadata": {},
   "source": [
    "* Whereas the reward signal indicates what is good in an immediate sense, a value function specifies what is good in the long run. \n",
    "* Roughly speaking, the value of a state is the total amount of reward an agent can expect to accumulate over the future, starting from that state."
   ]
  },
  {
   "cell_type": "markdown",
   "metadata": {},
   "source": [
    "#### model(optionally)"
   ]
  },
  {
   "cell_type": "markdown",
   "metadata": {},
   "source": [
    "* The fourth and final element of some reinforcement learning systems is a model of the environment. \n",
    "* This is something that mimics the behavior of the environment, or more generally, that allows inferences to be made about how the environment will behave.\n",
    "* model-based\n",
    "    - Methods for solving reinforcement learning problems that use models and planning are called model-based methods,\n",
    "* model-free\n",
    "    - as opposed to simpler model-free methods that are explicitly trial-and-error learners—viewed as almost the opposite of planning."
   ]
  },
  {
   "cell_type": "markdown",
   "metadata": {},
   "source": [
    "# 1.4 Limitations and Scope"
   ]
  },
  {
   "cell_type": "markdown",
   "metadata": {},
   "source": [
    "# 1.5 An Extended Example: Tic-Tac-Toe"
   ]
  },
  {
   "cell_type": "markdown",
   "metadata": {},
   "source": [
    "#### 참고\n",
    "* [8] (Slide) RL - Intro http://slideplayer.com/slide/5079854/"
   ]
  },
  {
   "cell_type": "markdown",
   "metadata": {},
   "source": [
    "<img src=\"http://images.slideplayer.com/16/5079854/slides/slide_9.jpg\" width=600 />"
   ]
  },
  {
   "cell_type": "markdown",
   "metadata": {},
   "source": [
    "<img src=\"figures/cap1.1.png\" />"
   ]
  },
  {
   "cell_type": "markdown",
   "metadata": {},
   "source": [
    "<img src=\"figures/cap1.2.png\" />"
   ]
  },
  {
   "cell_type": "markdown",
   "metadata": {},
   "source": [
    "<img src=\"figures/cap1.3.png\" width=600 />"
   ]
  },
  {
   "cell_type": "markdown",
   "metadata": {},
   "source": [
    "# 참고 : 파이썬 Tic-Tac-Toe (RL) 코드 \n",
    "* [9] (python code) Reinforcement Learning in Tic-Tac-Toe - https://github.com/tansey/rl-tictactoe"
   ]
  },
  {
   "cell_type": "code",
   "execution_count": 2,
   "metadata": {
    "collapsed": false
   },
   "outputs": [],
   "source": [
    "import random\n",
    "from copy import copy, deepcopy\n",
    "import csv\n",
    "import matplotlib.pyplot as plt\n",
    "%matplotlib inline"
   ]
  },
  {
   "cell_type": "code",
   "execution_count": 3,
   "metadata": {
    "collapsed": true
   },
   "outputs": [],
   "source": [
    "EMPTY = 0\n",
    "PLAYER_X = 1\n",
    "PLAYER_O = 2\n",
    "DRAW = 3\n",
    "\n",
    "BOARD_FORMAT = \"----------------------------\\n| {0} | {1} | {2} |\\n|--------------------------|\\n| {3} | {4} | {5} |\\n|--------------------------|\\n| {6} | {7} | {8} |\\n----------------------------\"\n",
    "NAMES = [' ', 'X', 'O']"
   ]
  },
  {
   "cell_type": "code",
   "execution_count": 4,
   "metadata": {
    "collapsed": true
   },
   "outputs": [],
   "source": [
    "def printboard(state):\n",
    "    cells = []\n",
    "    for i in range(3):\n",
    "        for j in range(3):\n",
    "            cells.append(NAMES[state[i][j]].center(6))\n",
    "    print BOARD_FORMAT.format(*cells)"
   ]
  },
  {
   "cell_type": "code",
   "execution_count": 5,
   "metadata": {
    "collapsed": true
   },
   "outputs": [],
   "source": [
    "def emptystate():\n",
    "    return [[EMPTY,EMPTY,EMPTY],[EMPTY,EMPTY,EMPTY],[EMPTY,EMPTY,EMPTY]]"
   ]
  },
  {
   "cell_type": "code",
   "execution_count": 6,
   "metadata": {
    "collapsed": true
   },
   "outputs": [],
   "source": [
    "def gameover(state):\n",
    "    for i in range(3):\n",
    "        if state[i][0] != EMPTY and state[i][0] == state[i][1] and state[i][0] == state[i][2]:\n",
    "            return state[i][0]\n",
    "        if state[0][i] != EMPTY and state[0][i] == state[1][i] and state[0][i] == state[2][i]:\n",
    "            return state[0][i]\n",
    "    if state[0][0] != EMPTY and state[0][0] == state[1][1] and state[0][0] == state[2][2]:\n",
    "        return state[0][0]\n",
    "    if state[0][2] != EMPTY and state[0][2] == state[1][1] and state[0][2] == state[2][0]:\n",
    "        return state[0][2]\n",
    "    for i in range(3):\n",
    "        for j in range(3):\n",
    "            if state[i][j] == EMPTY:\n",
    "                return EMPTY\n",
    "    return DRAW"
   ]
  },
  {
   "cell_type": "code",
   "execution_count": 7,
   "metadata": {
    "collapsed": true
   },
   "outputs": [],
   "source": [
    "def last_to_act(state):\n",
    "    countx = 0\n",
    "    counto = 0\n",
    "    for i in range(3):\n",
    "        for j in range(3):\n",
    "            if state[i][j] == PLAYER_X:\n",
    "                countx += 1\n",
    "            elif state[i][j] == PLAYER_O:\n",
    "                counto += 1\n",
    "    if countx == counto:\n",
    "        return PLAYER_O\n",
    "    if countx == (counto + 1):\n",
    "        return PLAYER_X\n",
    "    return -1\n"
   ]
  },
  {
   "cell_type": "code",
   "execution_count": 8,
   "metadata": {
    "collapsed": true
   },
   "outputs": [],
   "source": [
    "def enumstates(state, idx, agent):\n",
    "    if idx > 8:\n",
    "        player = last_to_act(state)\n",
    "        if player == agent.player:\n",
    "            agent.add(state)\n",
    "    else:\n",
    "        winner = gameover(state)\n",
    "        if winner != EMPTY:\n",
    "            return\n",
    "        i = idx / 3\n",
    "        j = idx % 3\n",
    "        for val in range(3):\n",
    "            state[i][j] = val\n",
    "            enumstates(state, idx+1, agent)"
   ]
  },
  {
   "cell_type": "code",
   "execution_count": 9,
   "metadata": {
    "collapsed": true
   },
   "outputs": [],
   "source": [
    "class Agent(object):\n",
    "    def __init__(self, player, verbose = False, lossval = 0, learning = True):\n",
    "        self.values = {}\n",
    "        self.player = player\n",
    "        self.verbose = verbose\n",
    "        self.lossval = lossval\n",
    "        self.learning = learning\n",
    "        self.epsilon = 0.1\n",
    "        self.alpha = 0.99\n",
    "        self.prevstate = None\n",
    "        self.prevscore = 0\n",
    "        self.count = 0\n",
    "        enumstates(emptystate(), 0, self)\n",
    "\n",
    "    def episode_over(self, winner):\n",
    "        self.backup(self.winnerval(winner))\n",
    "        self.prevstate = None\n",
    "        self.prevscore = 0\n",
    "\n",
    "    def action(self, state):\n",
    "        r = random.random()\n",
    "        if r < self.epsilon:\n",
    "            move = self.random(state)\n",
    "            self.log('>>>>>>> Exploratory action: ' + str(move))\n",
    "        else:\n",
    "            move = self.greedy(state)\n",
    "            self.log('>>>>>>> Best action: ' + str(move))\n",
    "        state[move[0]][move[1]] = self.player\n",
    "        self.prevstate = self.statetuple(state)\n",
    "        self.prevscore = self.lookup(state)\n",
    "        state[move[0]][move[1]] = EMPTY\n",
    "        return move\n",
    "\n",
    "    def random(self, state):\n",
    "        available = []\n",
    "        for i in range(3):\n",
    "            for j in range(3):\n",
    "                if state[i][j] == EMPTY:\n",
    "                    available.append((i,j))\n",
    "        return random.choice(available)\n",
    "\n",
    "    def greedy(self, state):\n",
    "        maxval = -50000\n",
    "        maxmove = None\n",
    "        if self.verbose:\n",
    "            cells = []\n",
    "        for i in range(3):\n",
    "            for j in range(3):\n",
    "                if state[i][j] == EMPTY:\n",
    "                    state[i][j] = self.player\n",
    "                    val = self.lookup(state)\n",
    "                    state[i][j] = EMPTY\n",
    "                    if val > maxval:\n",
    "                        maxval = val\n",
    "                        maxmove = (i, j)\n",
    "                    if self.verbose:\n",
    "                        cells.append('{0:.3f}'.format(val).center(6))\n",
    "                elif self.verbose:\n",
    "                    cells.append(NAMES[state[i][j]].center(6))\n",
    "        if self.verbose:\n",
    "            print BOARD_FORMAT.format(*cells)\n",
    "        self.backup(maxval)\n",
    "        return maxmove\n",
    "\n",
    "    def backup(self, nextval):\n",
    "        if self.prevstate != None and self.learning:\n",
    "            self.values[self.prevstate] += self.alpha * (nextval - self.prevscore)\n",
    "\n",
    "    def lookup(self, state):\n",
    "        key = self.statetuple(state)\n",
    "        if not key in self.values:\n",
    "            self.add(key)\n",
    "        return self.values[key]\n",
    "\n",
    "    def add(self, state):\n",
    "        winner = gameover(state)\n",
    "        tup = self.statetuple(state)\n",
    "        self.values[tup] = self.winnerval(winner)\n",
    "\n",
    "    def winnerval(self, winner):\n",
    "        if winner == self.player:\n",
    "            return 1\n",
    "        elif winner == EMPTY:\n",
    "            return 0.5\n",
    "        elif winner == DRAW:\n",
    "            return 0\n",
    "        else:\n",
    "            return self.lossval\n",
    "\n",
    "    def printvalues(self):\n",
    "        vals = deepcopy(self.values)\n",
    "        for key in vals:\n",
    "            state = [list(key[0]),list(key[1]),list(key[2])]\n",
    "            cells = []\n",
    "            for i in range(3):\n",
    "                for j in range(3):\n",
    "                    if state[i][j] == EMPTY:\n",
    "                        state[i][j] = self.player\n",
    "                        cells.append(str(self.lookup(state)).center(3))\n",
    "                        state[i][j] = EMPTY\n",
    "                    else:\n",
    "                        cells.append(NAMES[state[i][j]].center(3))\n",
    "            print BOARD_FORMAT.format(*cells)\n",
    "\n",
    "    def statetuple(self, state):\n",
    "        return (tuple(state[0]),tuple(state[1]),tuple(state[2]))\n",
    "\n",
    "    def log(self, s):\n",
    "        if self.verbose:\n",
    "            print s"
   ]
  },
  {
   "cell_type": "code",
   "execution_count": 10,
   "metadata": {
    "collapsed": true
   },
   "outputs": [],
   "source": [
    "class Human(object):\n",
    "    def __init__(self, player):\n",
    "        self.player = player\n",
    "\n",
    "    def action(self, state):\n",
    "        printboard(state)\n",
    "        action = raw_input('Your move? ')\n",
    "        return (int(action.split(',')[0]),int(action.split(',')[1]))\n",
    "\n",
    "    def episode_over(self, winner):\n",
    "        if winner == DRAW:\n",
    "            print 'Game over! It was a draw.'\n",
    "        else:\n",
    "            print 'Game over! Winner: Player {0}'.format(winner)\n"
   ]
  },
  {
   "cell_type": "code",
   "execution_count": 11,
   "metadata": {
    "collapsed": true
   },
   "outputs": [],
   "source": [
    "def play(agent1, agent2):\n",
    "    state = emptystate()\n",
    "    for i in range(9):\n",
    "        if i % 2 == 0:\n",
    "            move = agent1.action(state)\n",
    "        else:\n",
    "            move = agent2.action(state)\n",
    "        state[move[0]][move[1]] = (i % 2) + 1\n",
    "        winner = gameover(state)\n",
    "        if winner != EMPTY:\n",
    "            return winner\n",
    "    return winner"
   ]
  },
  {
   "cell_type": "code",
   "execution_count": 12,
   "metadata": {
    "collapsed": true
   },
   "outputs": [],
   "source": [
    "def measure_performance_vs_random(agent1, agent2):\n",
    "    epsilon1 = agent1.epsilon\n",
    "    epsilon2 = agent2.epsilon\n",
    "    agent1.epsilon = 0\n",
    "    agent2.epsilon = 0\n",
    "    agent1.learning = False\n",
    "    agent2.learning = False\n",
    "    r1 = Agent(1)\n",
    "    r2 = Agent(2)\n",
    "    r1.epsilon = 1\n",
    "    r2.epsilon = 1\n",
    "    probs = [0,0,0,0,0,0]\n",
    "    games = 100\n",
    "    for i in range(games):\n",
    "        winner = play(agent1, r2)\n",
    "        if winner == PLAYER_X:\n",
    "            probs[0] += 1.0 / games\n",
    "        elif winner == PLAYER_O:\n",
    "            probs[1] += 1.0 / games\n",
    "        else:\n",
    "            probs[2] += 1.0 / games\n",
    "    for i in range(games):\n",
    "        winner = play(r1, agent2)\n",
    "        if winner == PLAYER_O:\n",
    "            probs[3] += 1.0 / games\n",
    "        elif winner == PLAYER_X:\n",
    "            probs[4] += 1.0 / games\n",
    "        else:\n",
    "            probs[5] += 1.0 / games\n",
    "    agent1.epsilon = epsilon1\n",
    "    agent2.epsilon = epsilon2\n",
    "    agent1.learning = True\n",
    "    agent2.learning = True\n",
    "    return probs"
   ]
  },
  {
   "cell_type": "code",
   "execution_count": 13,
   "metadata": {
    "collapsed": true
   },
   "outputs": [],
   "source": [
    "def measure_performance_vs_each_other(agent1, agent2):\n",
    "    #epsilon1 = agent1.epsilon\n",
    "    #epsilon2 = agent2.epsilon\n",
    "    #agent1.epsilon = 0\n",
    "    #agent2.epsilon = 0\n",
    "    #agent1.learning = False\n",
    "    #agent2.learning = False\n",
    "    probs = [0,0,0]\n",
    "    games = 100\n",
    "    for i in range(games):\n",
    "        winner = play(agent1, agent2)\n",
    "        if winner == PLAYER_X:\n",
    "            probs[0] += 1.0 / games\n",
    "        elif winner == PLAYER_O:\n",
    "            probs[1] += 1.0 / games\n",
    "        else:\n",
    "            probs[2] += 1.0 / games\n",
    "    #agent1.epsilon = epsilon1\n",
    "    #agent2.epsilon = epsilon2\n",
    "    #agent1.learning = True\n",
    "    #agent2.learning = True\n",
    "    return probs\n"
   ]
  },
  {
   "cell_type": "code",
   "execution_count": 14,
   "metadata": {
    "collapsed": true
   },
   "outputs": [],
   "source": [
    "p1 = Agent(1, lossval = -1)\n",
    "p2 = Agent(2, lossval = -1)\n",
    "r1 = Agent(1, learning = False)\n",
    "r2 = Agent(2, learning = False)"
   ]
  },
  {
   "cell_type": "code",
   "execution_count": 15,
   "metadata": {
    "collapsed": true
   },
   "outputs": [],
   "source": [
    "r1.epsilon = 1\n",
    "r2.epsilon = 1"
   ]
  },
  {
   "cell_type": "code",
   "execution_count": 16,
   "metadata": {
    "collapsed": true
   },
   "outputs": [],
   "source": [
    "series = ['P1-Win','P1-Lose','P1-Draw','P2-Win','P2-Lose','P2-Draw']\n",
    "colors = ['r','b','g','c','m','b']\n",
    "markers = ['+', '.', 'o', '*', '^', 's']"
   ]
  },
  {
   "cell_type": "code",
   "execution_count": 17,
   "metadata": {
    "collapsed": true
   },
   "outputs": [],
   "source": [
    "f = open('results.csv', 'wb')\n",
    "writer = csv.writer(f)    \n",
    "writer.writerow(series)"
   ]
  },
  {
   "cell_type": "code",
   "execution_count": 18,
   "metadata": {
    "collapsed": true
   },
   "outputs": [],
   "source": [
    "perf = [[] for _ in range(len(series) + 1)]"
   ]
  },
  {
   "cell_type": "code",
   "execution_count": 19,
   "metadata": {
    "collapsed": false
   },
   "outputs": [
    {
     "name": "stdout",
     "output_type": "stream",
     "text": [
      "Game: 0\n",
      "Game: 10\n",
      "Game: 20\n",
      "Game: 30\n",
      "Game: 40\n",
      "Game: 50\n",
      "Game: 60\n",
      "Game: 70\n",
      "Game: 80\n",
      "Game: 90\n",
      "Game: 100\n",
      "Game: 110\n",
      "Game: 120\n",
      "Game: 130\n",
      "Game: 140\n",
      "Game: 150\n",
      "Game: 160\n",
      "Game: 170\n",
      "Game: 180\n",
      "Game: 190\n",
      "Game: 200\n",
      "Game: 210\n",
      "Game: 220\n",
      "Game: 230\n",
      "Game: 240\n",
      "Game: 250\n",
      "Game: 260\n",
      "Game: 270\n",
      "Game: 280\n",
      "Game: 290\n",
      "Game: 300\n",
      "Game: 310\n",
      "Game: 320\n",
      "Game: 330\n",
      "Game: 340\n",
      "Game: 350\n",
      "Game: 360\n",
      "Game: 370\n",
      "Game: 380\n",
      "Game: 390\n",
      "Game: 400\n",
      "Game: 410\n",
      "Game: 420\n",
      "Game: 430\n",
      "Game: 440\n",
      "Game: 450\n",
      "Game: 460\n",
      "Game: 470\n",
      "Game: 480\n",
      "Game: 490\n",
      "Game: 500\n",
      "Game: 510\n",
      "Game: 520\n",
      "Game: 530\n",
      "Game: 540\n",
      "Game: 550\n",
      "Game: 560\n",
      "Game: 570\n",
      "Game: 580\n",
      "Game: 590\n",
      "Game: 600\n",
      "Game: 610\n",
      "Game: 620\n",
      "Game: 630\n",
      "Game: 640\n",
      "Game: 650\n",
      "Game: 660\n",
      "Game: 670\n",
      "Game: 680\n",
      "Game: 690\n",
      "Game: 700\n",
      "Game: 710\n",
      "Game: 720\n",
      "Game: 730\n",
      "Game: 740\n",
      "Game: 750\n",
      "Game: 760\n",
      "Game: 770\n",
      "Game: 780\n",
      "Game: 790\n",
      "Game: 800\n",
      "Game: 810\n",
      "Game: 820\n",
      "Game: 830\n",
      "Game: 840\n",
      "Game: 850\n",
      "Game: 860\n",
      "Game: 870\n",
      "Game: 880\n",
      "Game: 890\n",
      "Game: 900\n",
      "Game: 910\n",
      "Game: 920\n",
      "Game: 930\n",
      "Game: 940\n",
      "Game: 950\n",
      "Game: 960\n",
      "Game: 970\n",
      "Game: 980\n",
      "Game: 990\n",
      "Game: 1000\n",
      "Game: 1010\n",
      "Game: 1020\n",
      "Game: 1030\n",
      "Game: 1040\n",
      "Game: 1050\n",
      "Game: 1060\n",
      "Game: 1070\n",
      "Game: 1080\n",
      "Game: 1090\n",
      "Game: 1100\n",
      "Game: 1110\n",
      "Game: 1120\n",
      "Game: 1130\n",
      "Game: 1140\n",
      "Game: 1150\n",
      "Game: 1160\n",
      "Game: 1170\n",
      "Game: 1180\n",
      "Game: 1190\n",
      "Game: 1200\n",
      "Game: 1210\n",
      "Game: 1220\n",
      "Game: 1230\n",
      "Game: 1240\n",
      "Game: 1250\n",
      "Game: 1260\n",
      "Game: 1270\n",
      "Game: 1280\n",
      "Game: 1290\n",
      "Game: 1300\n",
      "Game: 1310\n",
      "Game: 1320\n",
      "Game: 1330\n",
      "Game: 1340\n",
      "Game: 1350\n",
      "Game: 1360\n",
      "Game: 1370\n",
      "Game: 1380\n",
      "Game: 1390\n",
      "Game: 1400\n",
      "Game: 1410\n",
      "Game: 1420\n",
      "Game: 1430\n",
      "Game: 1440\n",
      "Game: 1450\n",
      "Game: 1460\n",
      "Game: 1470\n",
      "Game: 1480\n",
      "Game: 1490\n",
      "Game: 1500\n",
      "Game: 1510\n",
      "Game: 1520\n",
      "Game: 1530\n",
      "Game: 1540\n",
      "Game: 1550\n",
      "Game: 1560\n",
      "Game: 1570\n",
      "Game: 1580\n",
      "Game: 1590\n",
      "Game: 1600\n",
      "Game: 1610\n",
      "Game: 1620\n",
      "Game: 1630\n",
      "Game: 1640\n",
      "Game: 1650\n",
      "Game: 1660\n",
      "Game: 1670\n",
      "Game: 1680\n",
      "Game: 1690\n",
      "Game: 1700\n",
      "Game: 1710\n",
      "Game: 1720\n",
      "Game: 1730\n",
      "Game: 1740\n",
      "Game: 1750\n",
      "Game: 1760\n",
      "Game: 1770\n",
      "Game: 1780\n",
      "Game: 1790\n",
      "Game: 1800\n",
      "Game: 1810\n",
      "Game: 1820\n",
      "Game: 1830\n",
      "Game: 1840\n",
      "Game: 1850\n",
      "Game: 1860\n",
      "Game: 1870\n",
      "Game: 1880\n",
      "Game: 1890\n",
      "Game: 1900\n",
      "Game: 1910\n",
      "Game: 1920\n",
      "Game: 1930\n",
      "Game: 1940\n",
      "Game: 1950\n",
      "Game: 1960\n",
      "Game: 1970\n",
      "Game: 1980\n",
      "Game: 1990\n",
      "Game: 2000\n",
      "Game: 2010\n",
      "Game: 2020\n",
      "Game: 2030\n",
      "Game: 2040\n",
      "Game: 2050\n",
      "Game: 2060\n",
      "Game: 2070\n",
      "Game: 2080\n",
      "Game: 2090\n",
      "Game: 2100\n",
      "Game: 2110\n",
      "Game: 2120\n",
      "Game: 2130\n",
      "Game: 2140\n",
      "Game: 2150\n",
      "Game: 2160\n",
      "Game: 2170\n",
      "Game: 2180\n",
      "Game: 2190\n",
      "Game: 2200\n",
      "Game: 2210\n",
      "Game: 2220\n",
      "Game: 2230\n",
      "Game: 2240\n",
      "Game: 2250\n",
      "Game: 2260\n",
      "Game: 2270\n",
      "Game: 2280\n",
      "Game: 2290\n",
      "Game: 2300\n",
      "Game: 2310\n",
      "Game: 2320\n",
      "Game: 2330\n",
      "Game: 2340\n",
      "Game: 2350\n",
      "Game: 2360\n",
      "Game: 2370\n",
      "Game: 2380\n",
      "Game: 2390\n",
      "Game: 2400\n",
      "Game: 2410\n",
      "Game: 2420\n",
      "Game: 2430\n",
      "Game: 2440\n",
      "Game: 2450\n",
      "Game: 2460\n",
      "Game: 2470\n",
      "Game: 2480\n",
      "Game: 2490\n",
      "Game: 2500\n",
      "Game: 2510\n",
      "Game: 2520\n",
      "Game: 2530\n",
      "Game: 2540\n",
      "Game: 2550\n",
      "Game: 2560\n",
      "Game: 2570\n",
      "Game: 2580\n",
      "Game: 2590\n",
      "Game: 2600\n",
      "Game: 2610\n",
      "Game: 2620\n",
      "Game: 2630\n",
      "Game: 2640\n",
      "Game: 2650\n",
      "Game: 2660\n",
      "Game: 2670\n",
      "Game: 2680\n",
      "Game: 2690\n",
      "Game: 2700\n",
      "Game: 2710\n",
      "Game: 2720\n",
      "Game: 2730\n",
      "Game: 2740\n",
      "Game: 2750\n",
      "Game: 2760\n",
      "Game: 2770\n",
      "Game: 2780\n",
      "Game: 2790\n",
      "Game: 2800\n",
      "Game: 2810\n",
      "Game: 2820\n",
      "Game: 2830\n",
      "Game: 2840\n",
      "Game: 2850\n",
      "Game: 2860\n",
      "Game: 2870\n",
      "Game: 2880\n",
      "Game: 2890\n",
      "Game: 2900\n",
      "Game: 2910\n",
      "Game: 2920\n",
      "Game: 2930\n",
      "Game: 2940\n",
      "Game: 2950\n",
      "Game: 2960\n",
      "Game: 2970\n",
      "Game: 2980\n",
      "Game: 2990\n",
      "Game: 3000\n",
      "Game: 3010\n",
      "Game: 3020\n",
      "Game: 3030\n",
      "Game: 3040\n",
      "Game: 3050\n",
      "Game: 3060\n",
      "Game: 3070\n",
      "Game: 3080\n",
      "Game: 3090\n",
      "Game: 3100\n",
      "Game: 3110\n",
      "Game: 3120\n",
      "Game: 3130\n",
      "Game: 3140\n",
      "Game: 3150\n",
      "Game: 3160\n",
      "Game: 3170\n",
      "Game: 3180\n",
      "Game: 3190\n",
      "Game: 3200\n",
      "Game: 3210\n",
      "Game: 3220\n",
      "Game: 3230\n",
      "Game: 3240\n",
      "Game: 3250\n",
      "Game: 3260\n",
      "Game: 3270\n",
      "Game: 3280\n",
      "Game: 3290\n",
      "Game: 3300\n",
      "Game: 3310\n",
      "Game: 3320\n",
      "Game: 3330\n",
      "Game: 3340\n",
      "Game: 3350\n",
      "Game: 3360\n",
      "Game: 3370\n",
      "Game: 3380\n",
      "Game: 3390\n",
      "Game: 3400\n",
      "Game: 3410\n",
      "Game: 3420\n",
      "Game: 3430\n",
      "Game: 3440\n",
      "Game: 3450\n",
      "Game: 3460\n",
      "Game: 3470\n",
      "Game: 3480\n",
      "Game: 3490\n",
      "Game: 3500\n",
      "Game: 3510\n",
      "Game: 3520\n",
      "Game: 3530\n",
      "Game: 3540\n",
      "Game: 3550\n",
      "Game: 3560\n",
      "Game: 3570\n",
      "Game: 3580\n",
      "Game: 3590\n",
      "Game: 3600\n",
      "Game: 3610\n",
      "Game: 3620\n",
      "Game: 3630\n",
      "Game: 3640\n",
      "Game: 3650\n",
      "Game: 3660\n",
      "Game: 3670\n",
      "Game: 3680\n",
      "Game: 3690\n",
      "Game: 3700\n",
      "Game: 3710\n",
      "Game: 3720\n",
      "Game: 3730\n",
      "Game: 3740\n",
      "Game: 3750\n",
      "Game: 3760\n",
      "Game: 3770\n",
      "Game: 3780\n",
      "Game: 3790\n",
      "Game: 3800\n",
      "Game: 3810\n",
      "Game: 3820\n",
      "Game: 3830\n",
      "Game: 3840\n",
      "Game: 3850\n",
      "Game: 3860\n",
      "Game: 3870\n",
      "Game: 3880\n",
      "Game: 3890\n",
      "Game: 3900\n",
      "Game: 3910\n",
      "Game: 3920\n",
      "Game: 3930\n",
      "Game: 3940\n",
      "Game: 3950\n",
      "Game: 3960\n",
      "Game: 3970\n",
      "Game: 3980\n",
      "Game: 3990\n",
      "Game: 4000\n",
      "Game: 4010\n",
      "Game: 4020\n",
      "Game: 4030\n",
      "Game: 4040\n",
      "Game: 4050\n",
      "Game: 4060\n",
      "Game: 4070\n",
      "Game: 4080\n",
      "Game: 4090\n",
      "Game: 4100\n",
      "Game: 4110\n",
      "Game: 4120\n",
      "Game: 4130\n",
      "Game: 4140\n",
      "Game: 4150\n",
      "Game: 4160\n",
      "Game: 4170\n",
      "Game: 4180\n",
      "Game: 4190\n",
      "Game: 4200\n",
      "Game: 4210\n",
      "Game: 4220\n",
      "Game: 4230\n",
      "Game: 4240\n",
      "Game: 4250\n",
      "Game: 4260\n",
      "Game: 4270\n",
      "Game: 4280\n",
      "Game: 4290\n",
      "Game: 4300\n",
      "Game: 4310\n",
      "Game: 4320\n",
      "Game: 4330\n",
      "Game: 4340\n",
      "Game: 4350\n",
      "Game: 4360\n",
      "Game: 4370\n",
      "Game: 4380\n",
      "Game: 4390\n",
      "Game: 4400\n",
      "Game: 4410\n",
      "Game: 4420\n",
      "Game: 4430\n",
      "Game: 4440\n",
      "Game: 4450\n",
      "Game: 4460\n",
      "Game: 4470\n",
      "Game: 4480\n",
      "Game: 4490\n",
      "Game: 4500\n",
      "Game: 4510\n",
      "Game: 4520\n",
      "Game: 4530\n",
      "Game: 4540\n",
      "Game: 4550\n",
      "Game: 4560\n",
      "Game: 4570\n",
      "Game: 4580\n",
      "Game: 4590\n",
      "Game: 4600\n",
      "Game: 4610\n",
      "Game: 4620\n",
      "Game: 4630\n",
      "Game: 4640\n",
      "Game: 4650\n",
      "Game: 4660\n",
      "Game: 4670\n",
      "Game: 4680\n",
      "Game: 4690\n",
      "Game: 4700\n",
      "Game: 4710\n",
      "Game: 4720\n",
      "Game: 4730\n",
      "Game: 4740\n",
      "Game: 4750\n",
      "Game: 4760\n",
      "Game: 4770\n",
      "Game: 4780\n",
      "Game: 4790\n",
      "Game: 4800\n",
      "Game: 4810\n",
      "Game: 4820\n",
      "Game: 4830\n",
      "Game: 4840\n",
      "Game: 4850\n",
      "Game: 4860\n",
      "Game: 4870\n",
      "Game: 4880\n",
      "Game: 4890\n",
      "Game: 4900\n",
      "Game: 4910\n",
      "Game: 4920\n",
      "Game: 4930\n",
      "Game: 4940\n",
      "Game: 4950\n",
      "Game: 4960\n",
      "Game: 4970\n",
      "Game: 4980\n",
      "Game: 4990\n",
      "Game: 5000\n",
      "Game: 5010\n",
      "Game: 5020\n",
      "Game: 5030\n",
      "Game: 5040\n",
      "Game: 5050\n",
      "Game: 5060\n",
      "Game: 5070\n",
      "Game: 5080\n",
      "Game: 5090\n",
      "Game: 5100\n",
      "Game: 5110\n",
      "Game: 5120\n",
      "Game: 5130\n",
      "Game: 5140\n",
      "Game: 5150\n",
      "Game: 5160\n",
      "Game: 5170\n",
      "Game: 5180\n",
      "Game: 5190\n",
      "Game: 5200\n",
      "Game: 5210\n",
      "Game: 5220\n",
      "Game: 5230\n",
      "Game: 5240\n",
      "Game: 5250\n",
      "Game: 5260\n",
      "Game: 5270\n",
      "Game: 5280\n",
      "Game: 5290\n",
      "Game: 5300\n",
      "Game: 5310\n",
      "Game: 5320\n",
      "Game: 5330\n",
      "Game: 5340\n",
      "Game: 5350\n",
      "Game: 5360\n",
      "Game: 5370\n",
      "Game: 5380\n",
      "Game: 5390\n",
      "Game: 5400\n",
      "Game: 5410\n",
      "Game: 5420\n",
      "Game: 5430\n",
      "Game: 5440\n",
      "Game: 5450\n",
      "Game: 5460\n",
      "Game: 5470\n",
      "Game: 5480\n",
      "Game: 5490\n",
      "Game: 5500\n",
      "Game: 5510\n",
      "Game: 5520\n",
      "Game: 5530\n",
      "Game: 5540\n",
      "Game: 5550\n",
      "Game: 5560\n",
      "Game: 5570\n",
      "Game: 5580\n",
      "Game: 5590\n",
      "Game: 5600\n",
      "Game: 5610\n",
      "Game: 5620\n",
      "Game: 5630\n",
      "Game: 5640\n",
      "Game: 5650\n",
      "Game: 5660\n",
      "Game: 5670\n",
      "Game: 5680\n",
      "Game: 5690\n",
      "Game: 5700\n",
      "Game: 5710\n",
      "Game: 5720\n",
      "Game: 5730\n",
      "Game: 5740\n",
      "Game: 5750\n",
      "Game: 5760\n",
      "Game: 5770\n",
      "Game: 5780\n",
      "Game: 5790\n",
      "Game: 5800\n",
      "Game: 5810\n",
      "Game: 5820\n",
      "Game: 5830\n",
      "Game: 5840\n",
      "Game: 5850\n",
      "Game: 5860\n",
      "Game: 5870\n",
      "Game: 5880\n",
      "Game: 5890\n",
      "Game: 5900\n",
      "Game: 5910\n",
      "Game: 5920\n",
      "Game: 5930\n",
      "Game: 5940\n",
      "Game: 5950\n",
      "Game: 5960\n",
      "Game: 5970\n",
      "Game: 5980\n",
      "Game: 5990\n",
      "Game: 6000\n",
      "Game: 6010\n",
      "Game: 6020\n",
      "Game: 6030\n",
      "Game: 6040\n",
      "Game: 6050\n",
      "Game: 6060\n",
      "Game: 6070\n",
      "Game: 6080\n",
      "Game: 6090\n",
      "Game: 6100\n",
      "Game: 6110\n",
      "Game: 6120\n",
      "Game: 6130\n",
      "Game: 6140\n",
      "Game: 6150\n",
      "Game: 6160\n",
      "Game: 6170\n",
      "Game: 6180\n",
      "Game: 6190\n",
      "Game: 6200\n",
      "Game: 6210\n",
      "Game: 6220\n",
      "Game: 6230\n",
      "Game: 6240\n",
      "Game: 6250\n",
      "Game: 6260\n",
      "Game: 6270\n",
      "Game: 6280\n",
      "Game: 6290\n",
      "Game: 6300\n",
      "Game: 6310\n",
      "Game: 6320\n",
      "Game: 6330\n",
      "Game: 6340\n",
      "Game: 6350\n",
      "Game: 6360\n",
      "Game: 6370\n",
      "Game: 6380\n",
      "Game: 6390\n",
      "Game: 6400\n",
      "Game: 6410\n",
      "Game: 6420\n",
      "Game: 6430\n",
      "Game: 6440\n",
      "Game: 6450\n",
      "Game: 6460\n",
      "Game: 6470\n",
      "Game: 6480\n",
      "Game: 6490\n",
      "Game: 6500\n",
      "Game: 6510\n",
      "Game: 6520\n",
      "Game: 6530\n",
      "Game: 6540\n",
      "Game: 6550\n",
      "Game: 6560\n",
      "Game: 6570\n",
      "Game: 6580\n",
      "Game: 6590\n",
      "Game: 6600\n",
      "Game: 6610\n",
      "Game: 6620\n",
      "Game: 6630\n",
      "Game: 6640\n",
      "Game: 6650\n",
      "Game: 6660\n",
      "Game: 6670\n",
      "Game: 6680\n",
      "Game: 6690\n",
      "Game: 6700\n",
      "Game: 6710\n",
      "Game: 6720\n",
      "Game: 6730\n",
      "Game: 6740\n",
      "Game: 6750\n",
      "Game: 6760\n",
      "Game: 6770\n",
      "Game: 6780\n",
      "Game: 6790\n",
      "Game: 6800\n",
      "Game: 6810\n",
      "Game: 6820\n",
      "Game: 6830\n",
      "Game: 6840\n",
      "Game: 6850\n",
      "Game: 6860\n",
      "Game: 6870\n",
      "Game: 6880\n",
      "Game: 6890\n",
      "Game: 6900\n",
      "Game: 6910\n",
      "Game: 6920\n",
      "Game: 6930\n",
      "Game: 6940\n",
      "Game: 6950\n",
      "Game: 6960\n",
      "Game: 6970\n",
      "Game: 6980\n",
      "Game: 6990\n",
      "Game: 7000\n",
      "Game: 7010\n",
      "Game: 7020\n",
      "Game: 7030\n",
      "Game: 7040\n",
      "Game: 7050\n",
      "Game: 7060\n",
      "Game: 7070\n",
      "Game: 7080\n",
      "Game: 7090\n",
      "Game: 7100\n",
      "Game: 7110\n",
      "Game: 7120\n",
      "Game: 7130\n",
      "Game: 7140\n",
      "Game: 7150\n",
      "Game: 7160\n",
      "Game: 7170\n",
      "Game: 7180\n",
      "Game: 7190\n",
      "Game: 7200\n",
      "Game: 7210\n",
      "Game: 7220\n",
      "Game: 7230\n",
      "Game: 7240\n",
      "Game: 7250\n",
      "Game: 7260\n",
      "Game: 7270\n",
      "Game: 7280\n",
      "Game: 7290\n",
      "Game: 7300\n",
      "Game: 7310\n",
      "Game: 7320\n",
      "Game: 7330\n",
      "Game: 7340\n",
      "Game: 7350\n",
      "Game: 7360\n",
      "Game: 7370\n",
      "Game: 7380\n",
      "Game: 7390\n",
      "Game: 7400\n",
      "Game: 7410\n",
      "Game: 7420\n",
      "Game: 7430\n",
      "Game: 7440\n",
      "Game: 7450\n",
      "Game: 7460\n",
      "Game: 7470\n",
      "Game: 7480\n",
      "Game: 7490\n",
      "Game: 7500\n",
      "Game: 7510\n",
      "Game: 7520\n",
      "Game: 7530\n",
      "Game: 7540\n",
      "Game: 7550\n",
      "Game: 7560\n",
      "Game: 7570\n",
      "Game: 7580\n",
      "Game: 7590\n",
      "Game: 7600\n",
      "Game: 7610\n",
      "Game: 7620\n",
      "Game: 7630\n",
      "Game: 7640\n",
      "Game: 7650\n",
      "Game: 7660\n",
      "Game: 7670\n",
      "Game: 7680\n",
      "Game: 7690\n",
      "Game: 7700\n",
      "Game: 7710\n",
      "Game: 7720\n",
      "Game: 7730\n",
      "Game: 7740\n",
      "Game: 7750\n",
      "Game: 7760\n",
      "Game: 7770\n",
      "Game: 7780\n",
      "Game: 7790\n",
      "Game: 7800\n",
      "Game: 7810\n",
      "Game: 7820\n",
      "Game: 7830\n",
      "Game: 7840\n",
      "Game: 7850\n",
      "Game: 7860\n",
      "Game: 7870\n",
      "Game: 7880\n",
      "Game: 7890\n",
      "Game: 7900\n",
      "Game: 7910\n",
      "Game: 7920\n",
      "Game: 7930\n",
      "Game: 7940\n",
      "Game: 7950\n",
      "Game: 7960\n",
      "Game: 7970\n",
      "Game: 7980\n",
      "Game: 7990\n",
      "Game: 8000\n",
      "Game: 8010\n",
      "Game: 8020\n",
      "Game: 8030\n",
      "Game: 8040\n",
      "Game: 8050\n",
      "Game: 8060\n",
      "Game: 8070\n",
      "Game: 8080\n",
      "Game: 8090\n",
      "Game: 8100\n",
      "Game: 8110\n",
      "Game: 8120\n",
      "Game: 8130\n",
      "Game: 8140\n",
      "Game: 8150\n",
      "Game: 8160\n",
      "Game: 8170\n",
      "Game: 8180\n",
      "Game: 8190\n",
      "Game: 8200\n",
      "Game: 8210\n",
      "Game: 8220\n",
      "Game: 8230\n",
      "Game: 8240\n",
      "Game: 8250\n",
      "Game: 8260\n",
      "Game: 8270\n",
      "Game: 8280\n",
      "Game: 8290\n",
      "Game: 8300\n",
      "Game: 8310\n",
      "Game: 8320\n",
      "Game: 8330\n",
      "Game: 8340\n",
      "Game: 8350\n",
      "Game: 8360\n",
      "Game: 8370\n",
      "Game: 8380\n",
      "Game: 8390\n",
      "Game: 8400\n",
      "Game: 8410\n",
      "Game: 8420\n",
      "Game: 8430\n",
      "Game: 8440\n",
      "Game: 8450\n",
      "Game: 8460\n",
      "Game: 8470\n",
      "Game: 8480\n",
      "Game: 8490\n",
      "Game: 8500\n",
      "Game: 8510\n",
      "Game: 8520\n",
      "Game: 8530\n",
      "Game: 8540\n",
      "Game: 8550\n",
      "Game: 8560\n",
      "Game: 8570\n",
      "Game: 8580\n",
      "Game: 8590\n",
      "Game: 8600\n",
      "Game: 8610\n",
      "Game: 8620\n",
      "Game: 8630\n",
      "Game: 8640\n",
      "Game: 8650\n",
      "Game: 8660\n",
      "Game: 8670\n",
      "Game: 8680\n",
      "Game: 8690\n",
      "Game: 8700\n",
      "Game: 8710\n",
      "Game: 8720\n",
      "Game: 8730\n",
      "Game: 8740\n",
      "Game: 8750\n",
      "Game: 8760\n",
      "Game: 8770\n",
      "Game: 8780\n",
      "Game: 8790\n",
      "Game: 8800\n",
      "Game: 8810\n",
      "Game: 8820\n",
      "Game: 8830\n",
      "Game: 8840\n",
      "Game: 8850\n",
      "Game: 8860\n",
      "Game: 8870\n",
      "Game: 8880\n",
      "Game: 8890\n",
      "Game: 8900\n",
      "Game: 8910\n",
      "Game: 8920\n",
      "Game: 8930\n",
      "Game: 8940\n",
      "Game: 8950\n",
      "Game: 8960\n",
      "Game: 8970\n",
      "Game: 8980\n",
      "Game: 8990\n",
      "Game: 9000\n",
      "Game: 9010\n",
      "Game: 9020\n",
      "Game: 9030\n",
      "Game: 9040\n",
      "Game: 9050\n",
      "Game: 9060\n",
      "Game: 9070\n",
      "Game: 9080\n",
      "Game: 9090\n",
      "Game: 9100\n",
      "Game: 9110\n",
      "Game: 9120\n",
      "Game: 9130\n",
      "Game: 9140\n",
      "Game: 9150\n",
      "Game: 9160\n",
      "Game: 9170\n",
      "Game: 9180\n",
      "Game: 9190\n",
      "Game: 9200\n",
      "Game: 9210\n",
      "Game: 9220\n",
      "Game: 9230\n",
      "Game: 9240\n",
      "Game: 9250\n",
      "Game: 9260\n",
      "Game: 9270\n",
      "Game: 9280\n",
      "Game: 9290\n",
      "Game: 9300\n",
      "Game: 9310\n",
      "Game: 9320\n",
      "Game: 9330\n",
      "Game: 9340\n",
      "Game: 9350\n",
      "Game: 9360\n",
      "Game: 9370\n",
      "Game: 9380\n",
      "Game: 9390\n",
      "Game: 9400\n",
      "Game: 9410\n",
      "Game: 9420\n",
      "Game: 9430\n",
      "Game: 9440\n",
      "Game: 9450\n",
      "Game: 9460\n",
      "Game: 9470\n",
      "Game: 9480\n",
      "Game: 9490\n",
      "Game: 9500\n",
      "Game: 9510\n",
      "Game: 9520\n",
      "Game: 9530\n",
      "Game: 9540\n",
      "Game: 9550\n",
      "Game: 9560\n",
      "Game: 9570\n",
      "Game: 9580\n",
      "Game: 9590\n",
      "Game: 9600\n",
      "Game: 9610\n",
      "Game: 9620\n",
      "Game: 9630\n",
      "Game: 9640\n",
      "Game: 9650\n",
      "Game: 9660\n",
      "Game: 9670\n",
      "Game: 9680\n",
      "Game: 9690\n",
      "Game: 9700\n",
      "Game: 9710\n",
      "Game: 9720\n",
      "Game: 9730\n",
      "Game: 9740\n",
      "Game: 9750\n",
      "Game: 9760\n",
      "Game: 9770\n",
      "Game: 9780\n",
      "Game: 9790\n",
      "Game: 9800\n",
      "Game: 9810\n",
      "Game: 9820\n",
      "Game: 9830\n",
      "Game: 9840\n",
      "Game: 9850\n",
      "Game: 9860\n",
      "Game: 9870\n",
      "Game: 9880\n",
      "Game: 9890\n",
      "Game: 9900\n",
      "Game: 9910\n",
      "Game: 9920\n",
      "Game: 9930\n",
      "Game: 9940\n",
      "Game: 9950\n",
      "Game: 9960\n",
      "Game: 9970\n",
      "Game: 9980\n",
      "Game: 9990\n"
     ]
    }
   ],
   "source": [
    "for i in range(10000):\n",
    "        if i % 10 == 0:\n",
    "            print 'Game: {0}'.format(i)\n",
    "            probs = measure_performance_vs_random(p1, p2)\n",
    "            writer.writerow(probs)\n",
    "            f.flush()\n",
    "            perf[0].append(i)\n",
    "            for idx,x in enumerate(probs):\n",
    "                perf[idx+1].append(x)\n",
    "        winner = play(p1,p2)\n",
    "        p1.episode_over(winner)\n",
    "        #winner = play(r1,p2)\n",
    "        p2.episode_over(winner)\n",
    "f.close()"
   ]
  },
  {
   "cell_type": "code",
   "execution_count": 20,
   "metadata": {
    "collapsed": false
   },
   "outputs": [
    {
     "data": {
      "text/plain": [
       "<matplotlib.legend.Legend at 0x7f006fa71050>"
      ]
     },
     "execution_count": 20,
     "metadata": {},
     "output_type": "execute_result"
    },
    {
     "data": {
      "image/png": "[encoded data removed]",
      "text/plain": [
       "<matplotlib.figure.Figure at 0x7f006fa71450>"
      ]
     },
     "metadata": {},
     "output_type": "display_data"
    }
   ],
   "source": [
    "for i in range(1,len(perf)):\n",
    "    plt.plot(perf[0], perf[i], label=series[i-1], color=colors[i-1])\n",
    "\n",
    "plt.xlabel('Episodes')\n",
    "plt.ylabel('Probability')\n",
    "plt.title('RL Agent Performance vs. Random Agent\\n({0} loss value, self-play)'.format(p1.lossval))\n",
    "plt.legend()"
   ]
  },
  {
   "cell_type": "code",
   "execution_count": 23,
   "metadata": {
    "collapsed": false
   },
   "outputs": [
    {
     "name": "stdout",
     "output_type": "stream",
     "text": [
      "P1-Win,P1-Lose,P1-Draw,P2-Win,P2-Lose,P2-Draw\r",
      "\r\n",
      "0.8900000000000006,0.09,0.02,0.5300000000000002,0.4200000000000002,0.05\r",
      "\r\n",
      "0.8600000000000005,0.12999999999999998,0.01,0.5400000000000003,0.4100000000000002,0.05\r",
      "\r\n",
      "0.8800000000000006,0.08,0.04,0.5600000000000003,0.4400000000000002,0\r",
      "\r\n",
      "0.9000000000000006,0.09,0.01,0.6200000000000003,0.37000000000000016,0.01\r",
      "\r\n",
      "0.9400000000000006,0.060000000000000005,0,0.5700000000000003,0.3900000000000002,0.04\r",
      "\r\n",
      "0.9200000000000006,0.08,0,0.5600000000000003,0.4300000000000002,0.01\r",
      "\r\n",
      "0.9300000000000006,0.07,0,0.5400000000000003,0.45000000000000023,0.01\r",
      "\r\n",
      "0.9800000000000006,0.02,0,0.6000000000000003,0.34000000000000014,0.060000000000000005\r",
      "\r\n",
      "1.0000000000000007,0,0,0.5300000000000002,0.4400000000000002,0.03\r",
      "\r\n"
     ]
    }
   ],
   "source": [
    "!head results.csv"
   ]
  },
  {
   "cell_type": "markdown",
   "metadata": {},
   "source": [
    "# 1.6 Summary"
   ]
  },
  {
   "cell_type": "markdown",
   "metadata": {},
   "source": [
    "# 참고자료\n",
    "* [1] Reinforcement Learning:\n",
    "An Introduction (second edition) - http://incompleteideas.net/sutton/book/the-book.html\n",
    "* [2] (slides) CMPUT 609: Reinforcement Learning for Artificial Intelligence -  http://incompleteideas.net/rlai.cs.ualberta.ca/RLAI/RLAIcourse/2010.html\n",
    "* [4] (slide) Deep\tReinforcement\tLearning / Lecture 1. Introduction - http://rll.berkeley.edu/deeprlcourse/docs/2015.08.26.Lecture01Intro.pdf\n",
    "* [5] CS 294: Deep Reinforcement Learning, Fall 2015 - http://rll.berkeley.edu/deeprlcourse/\n",
    "* [6] (slide) UCL Course on RL / Lecture 1: Introduction to Reinforcement Learning -  http://www0.cs.ucl.ac.uk/staff/d.silver/web/Teaching_files/intro_RL.pdf\n",
    "* [7] UCL Course on RL - http://www0.cs.ucl.ac.uk/staff/d.silver/web/Teaching.html\n",
    "* [8] (Slide) RL - Intro http://slideplayer.com/slide/5079854/\n",
    "* [9] (python code) Reinforcement Learning in Tic-Tac-Toe - https://github.com/tansey/rl-tictactoe"
   ]
  }
 ],
 "metadata": {
  "kernelspec": {
   "display_name": "Python 2",
   "language": "python",
   "name": "python2"
  },
  "language_info": {
   "codemirror_mode": {
    "name": "ipython",
    "version": 2
   },
   "file_extension": ".py",
   "mimetype": "text/x-python",
   "name": "python",
   "nbconvert_exporter": "python",
   "pygments_lexer": "ipython2",
   "version": "2.7.6"
  }
 },
 "nbformat": 4,
 "nbformat_minor": 0
}
